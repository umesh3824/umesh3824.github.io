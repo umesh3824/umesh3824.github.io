{
  "nbformat": 4,
  "nbformat_minor": 0,
  "metadata": {
    "colab": {
      "provenance": [],
      "gpuType": "T4"
    },
    "kernelspec": {
      "name": "python3",
      "display_name": "Python 3"
    },
    "language_info": {
      "name": "python"
    },
    "accelerator": "GPU",
    "gpuClass": "standard"
  },
  "cells": [
    {
      "cell_type": "code",
      "source": [
        "!/usr/local/cuda/bin/nvcc --version"
      ],
      "metadata": {
        "colab": {
          "base_uri": "https://localhost:8080/"
        },
        "id": "6wQQXUdp3FmX",
        "outputId": "d3d742f3-6c7b-49ff-ac3f-d90347da5eaa"
      },
      "execution_count": null,
      "outputs": [
        {
          "output_type": "stream",
          "name": "stdout",
          "text": [
            "nvcc: NVIDIA (R) Cuda compiler driver\n",
            "Copyright (c) 2005-2022 NVIDIA Corporation\n",
            "Built on Wed_Sep_21_10:33:58_PDT_2022\n",
            "Cuda compilation tools, release 11.8, V11.8.89\n",
            "Build cuda_11.8.r11.8/compiler.31833905_0\n"
          ]
        }
      ]
    },
    {
      "cell_type": "code",
      "execution_count": null,
      "metadata": {
        "colab": {
          "base_uri": "https://localhost:8080/"
        },
        "id": "g7WwFgoCz_iN",
        "outputId": "3a406774-e276-4551-92d3-8c9cdd0c48c6"
      },
      "outputs": [
        {
          "output_type": "stream",
          "name": "stdout",
          "text": [
            "Looking in indexes: https://pypi.org/simple, https://us-python.pkg.dev/colab-wheels/public/simple/\n",
            "Collecting git+https://github.com/andreinechaev/nvcc4jupyter.git\n",
            "  Cloning https://github.com/andreinechaev/nvcc4jupyter.git to /tmp/pip-req-build-64ehgxj_\n",
            "  Running command git clone --filter=blob:none --quiet https://github.com/andreinechaev/nvcc4jupyter.git /tmp/pip-req-build-64ehgxj_\n",
            "  Resolved https://github.com/andreinechaev/nvcc4jupyter.git to commit aac710a35f52bb78ab34d2e52517237941399eff\n",
            "  Preparing metadata (setup.py) ... \u001b[?25l\u001b[?25hdone\n",
            "Building wheels for collected packages: NVCCPlugin\n",
            "  Building wheel for NVCCPlugin (setup.py) ... \u001b[?25l\u001b[?25hdone\n",
            "  Created wheel for NVCCPlugin: filename=NVCCPlugin-0.0.2-py3-none-any.whl size=4287 sha256=9ea1eee1530d856b6ab4b0229d4c764a8d06bc0e8ca16cfd2efe16134af9efc1\n",
            "  Stored in directory: /tmp/pip-ephem-wheel-cache-u3gfq8hm/wheels/a8/b9/18/23f8ef71ceb0f63297dd1903aedd067e6243a68ea756d6feea\n",
            "Successfully built NVCCPlugin\n",
            "Installing collected packages: NVCCPlugin\n",
            "Successfully installed NVCCPlugin-0.0.2\n"
          ]
        }
      ],
      "source": [
        "!pip install git+https://github.com/andreinechaev/nvcc4jupyter.git"
      ]
    },
    {
      "cell_type": "code",
      "source": [
        "%load_ext nvcc_plugin"
      ],
      "metadata": {
        "colab": {
          "base_uri": "https://localhost:8080/"
        },
        "id": "l0E848AI05-Q",
        "outputId": "8ccbc9dd-a3c6-4a6a-de26-95a078f6f3df"
      },
      "execution_count": null,
      "outputs": [
        {
          "output_type": "stream",
          "name": "stdout",
          "text": [
            "created output directory at /content/src\n",
            "Out bin /content/result.out\n"
          ]
        }
      ]
    },
    {
      "cell_type": "code",
      "source": [
        "%%cu\n",
        "#include <stdio.h>\n",
        "#include <cuda.h>\n",
        "#include <cuda_runtime.h>\n",
        "#include <time.h>\n",
        "#define N 7\n",
        "__global__ void gpuAdd(int *d_a, int *d_b, int *d_c)\n",
        "{\n",
        "    int tid = blockIdx.x;\n",
        "    if (tid < N)\n",
        "    d_c[tid] = d_a[tid] + d_b[tid];\n",
        "}\n",
        "int main(void)\n",
        "{\n",
        "    int h_a[N], h_b[N], h_c[N];\n",
        "    int *d_a, *d_b, *d_c;\n",
        "    cudaMalloc((void**)&d_a, N * sizeof(int));\n",
        "    cudaMalloc((void**)&d_b, N * sizeof(int));\n",
        "    cudaMalloc((void**)&d_c, N * sizeof(int));\n",
        "    cudaEvent_t start,end;\n",
        "    cudaEventCreate(&start);\n",
        "    cudaEventCreate(&end);\n",
        "    cudaEventRecord(start);\n",
        "    for (int i = 0; i < N; i++) \n",
        "    {\n",
        "        h_a[i] = 2*i*i;\n",
        "        h_b[i] = i ;\n",
        "    }\n",
        "    cudaMemcpy(d_a, h_a, N * sizeof(int), cudaMemcpyHostToDevice);\n",
        "    cudaMemcpy(d_b, h_b, N * sizeof(int), cudaMemcpyHostToDevice);\n",
        "    gpuAdd <<<N, 1 >>>(d_a, d_b, d_c);\n",
        "    cudaMemcpy(h_c, d_c, N * sizeof(int), cudaMemcpyDeviceToHost);\n",
        "    printf(\"Vector addition on GPU \\n\");\n",
        "    for (int i = 0; i < N; i++) \n",
        "    {\n",
        "        printf(\"The sum of %d element is %d + %d = %d\\n\", i, h_a[i], h_b[i],h_c[i]);\n",
        "    }\n",
        "    cudaEventRecord(end);\n",
        "    cudaEventSynchronize(end);\n",
        "    float time=0;\n",
        "    cudaEventElapsedTime(&time, start, end);\n",
        "    printf(\"\\nexecution time=%f\",time);\n",
        " \n",
        "    cudaFree(d_a);\n",
        "    cudaFree(d_b);\n",
        "    cudaFree(d_c);\n",
        "    return 0;\n",
        "}"
      ],
      "metadata": {
        "colab": {
          "base_uri": "https://localhost:8080/"
        },
        "id": "ma-YLm-41gcA",
        "outputId": "cfd77fe1-4472-425d-8f02-83154fdd8c89"
      },
      "execution_count": null,
      "outputs": [
        {
          "output_type": "stream",
          "name": "stdout",
          "text": [
            "Vector addition on GPU \n",
            "The sum of 0 element is 0 + 0 = 0\n",
            "The sum of 1 element is 2 + 1 = 3\n",
            "The sum of 2 element is 8 + 2 = 10\n",
            "The sum of 3 element is 18 + 3 = 21\n",
            "The sum of 4 element is 32 + 4 = 36\n",
            "The sum of 5 element is 50 + 5 = 55\n",
            "The sum of 6 element is 72 + 6 = 78\n",
            "\n",
            "execution time=1.756352\n"
          ]
        }
      ]
    },
    {
      "cell_type": "code",
      "source": [],
      "metadata": {
        "id": "m68GF9OX6nNW"
      },
      "execution_count": null,
      "outputs": []
    }
  ]
}