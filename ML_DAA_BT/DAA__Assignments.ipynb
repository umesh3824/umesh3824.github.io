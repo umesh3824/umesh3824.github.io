{
  "nbformat": 4,
  "nbformat_minor": 0,
  "metadata": {
    "colab": {
      "provenance": [],
      "collapsed_sections": []
    },
    "kernelspec": {
      "name": "python3",
      "display_name": "Python 3"
    },
    "language_info": {
      "name": "python"
    }
  },
  "cells": [
    {
      "cell_type": "markdown",
      "source": [
        "## LP-1 Assignment-1\n",
        "\n",
        "Name: Kalyani Khandait\n",
        "roll no: BECOB214\n",
        "\n",
        "Write a program non-recursive and recursive program to calculate Fibonacci numbers and\n",
        "analyze their time and space complexity."
      ],
      "metadata": {
        "id": "IjW2ujpPsgrH"
      }
    },
    {
      "cell_type": "markdown",
      "source": [
        "#### Without Recursion"
      ],
      "metadata": {
        "id": "2nkqbA7CudFV"
      }
    },
    {
      "cell_type": "code",
      "execution_count": null,
      "metadata": {
        "colab": {
          "base_uri": "https://localhost:8080/"
        },
        "id": "Dtw3aMhNsZGh",
        "outputId": "4ac72030-75df-472c-faf3-e0cfc3e5dbec"
      },
      "outputs": [
        {
          "output_type": "stream",
          "name": "stdout",
          "text": [
            "Enter a number: 4\n",
            "0 1 1 2 "
          ]
        }
      ],
      "source": [
        "a=0\n",
        "b=1\n",
        "n=int(input(\"Enter a number: \"))\n",
        "print(a,b,end=\" \")\n",
        "for i in range(n-2):\n",
        "  t=a+b\n",
        "  a=b\n",
        "  b=t\n",
        "  print(t,end=\" \")\n",
        "\n",
        "\n",
        "# Time complexity of this recursive fibonacii depend upon the depth of recursive tree\n",
        "# thus th time complexity is O(2^n)\n",
        "# Time complexity without recursion is o(n)\n",
        "# Space Complexity is identified by the extra space required by the program(extra variables taken) which is o(n)\n"
      ]
    },
    {
      "cell_type": "markdown",
      "source": [
        "#### With Recursion"
      ],
      "metadata": {
        "id": "Rl4wNwTTujyk"
      }
    },
    {
      "cell_type": "code",
      "source": [
        "def fibo(n):\n",
        "  if(n<=1): \n",
        "    return n\n",
        "  else: \n",
        "    return (fibo(n-1)+fibo(n-2))\n",
        "    \n",
        "\n",
        "n=int(input(\"Enter a number: \"))\n",
        "\n",
        "#print(0,0,end=\" \")\n",
        "for i in range(n):\n",
        "  print(fibo(i),end=\" \")\n"
      ],
      "metadata": {
        "colab": {
          "base_uri": "https://localhost:8080/"
        },
        "id": "s-uBgTXLuYn-",
        "outputId": "372e18fa-85e1-4764-d5fd-9f5aebe7b3c6"
      },
      "execution_count": null,
      "outputs": [
        {
          "output_type": "stream",
          "name": "stdout",
          "text": [
            "Enter a number: 8\n",
            "0 1 1 2 3 5 8 13 "
          ]
        }
      ]
    },
    {
      "cell_type": "markdown",
      "source": [
        "## LP-1 Assignment-2\n",
        "\n",
        " Write a program to implement Huffman Encoding using a greedy strategy\n",
        "\n",
        "\n"
      ],
      "metadata": {
        "id": "YkWQFmeoFX80"
      }
    },
    {
      "cell_type": "code",
      "source": [
        "# A Huffman Tree Node\n",
        "class node:\n",
        "\tdef __init__(self, freq, symbol, left=None, right=None):\n",
        "\t\t# frequency of symbol\n",
        "\t\tself.freq = freq\n",
        "\n",
        "\t\t# symbol name (character)\n",
        "\t\tself.symbol = symbol\n",
        "\n",
        "\t\t# node left of current node\n",
        "\t\tself.left = left\n",
        "\n",
        "\t\t# node right of current node\n",
        "\t\tself.right = right\n",
        "\n",
        "\t\t# tree direction (0/1)\n",
        "\t\tself.huff = ''\n",
        "\n",
        "# utility function to print huffman\n",
        "# codes for all symbols in the newly\n",
        "# created Huffman tree\n",
        "\n",
        "\n",
        "def printNodes(node, val=''):\n",
        "\t# huffman code for current node\n",
        "\tnewVal = val + str(node.huff)\n",
        "\n",
        "\t# if node is not an edge node\n",
        "\t# then traverse inside it\n",
        "\tif(node.left):\n",
        "\t\tprintNodes(node.left, newVal)\n",
        "\tif(node.right):\n",
        "\t\tprintNodes(node.right, newVal)\n",
        "\n",
        "\t\t# if node is edge node then\n",
        "\t\t# display its huffman code\n",
        "\tif(not node.left and not node.right):\n",
        "\t\tprint(f\"{node.symbol} -> {newVal}\")\n",
        "\n",
        "\n",
        "# characters for huffman tree\n",
        "chars = ['a', 'b', 'c', 'd', 'e', 'f']\n",
        "\n",
        "# frequency of characters\n",
        "freq = [ 5, 9, 12, 13, 16, 45]\n",
        "\n",
        "# list containing unused nodes\n",
        "nodes = []\n",
        "\n",
        "# converting characters and frequencies\n",
        "# into huffman tree nodes\n",
        "for x in range(len(chars)):\n",
        "\tnodes.append(node(freq[x], chars[x]))\n",
        "\n",
        "while len(nodes) > 1:\n",
        "\t# sort all the nodes in ascending order\n",
        "\t# based on their frequency\n",
        "\tnodes = sorted(nodes, key=lambda x: x.freq)\n",
        "\n",
        "\t# pick 2 smallest nodes\n",
        "\tleft = nodes[0]\n",
        "\tright = nodes[1]\n",
        "\n",
        "\t# assign directional value to these nodes\n",
        "\tleft.huff = 0\n",
        "\tright.huff = 1\n",
        "\n",
        "\t# combine the 2 smallest nodes to create\n",
        "\t# new node as their parent\n",
        "\tnewNode = node(left.freq+right.freq, left.symbol+right.symbol, left, right)\n",
        "\n",
        "\t# remove the 2 nodes and add their\n",
        "\t# parent as new node among others\n",
        "\tnodes.remove(left)\n",
        "\tnodes.remove(right)\n",
        "\tnodes.append(newNode)\n",
        "\n",
        "# Huffman Tree is ready!\n",
        "print(\"Huffman Tree Node\")\n",
        "printNodes(nodes[0])\n"
      ],
      "metadata": {
        "id": "UCFGRfwCvsW4",
        "colab": {
          "base_uri": "https://localhost:8080/"
        },
        "outputId": "c5ce6f16-943e-4eef-863c-470b784f519a"
      },
      "execution_count": null,
      "outputs": [
        {
          "output_type": "stream",
          "name": "stdout",
          "text": [
            "Huffman Tree Node\n",
            "f -> 0\n",
            "c -> 100\n",
            "d -> 101\n",
            "a -> 1100\n",
            "b -> 1101\n",
            "e -> 111\n"
          ]
        }
      ]
    },
    {
      "cell_type": "markdown",
      "source": [
        "## LP-1 Assignment-3\n",
        "\n",
        "Fractional knapsack using Greedy algorithm\n",
        "\n"
      ],
      "metadata": {
        "id": "75XAPbWHGXJ0"
      }
    },
    {
      "cell_type": "code",
      "source": [
        "# Fractional knapsack using Greedy algorithm\n",
        "\n",
        "class Item:\n",
        "    def __init__(self, value, weight):\n",
        "        self.value = value\n",
        "        self.weight = weight\n",
        "\n",
        "def fractionalKnapsack(W, arr):\n",
        "    arr.sort(key=lambda x: (x.value/x.weight), reverse=True)\n",
        "    finalvalue = 0.0\n",
        " \n",
        "    for item in arr:\n",
        "        if item.weight <= W:\n",
        "            W -= item.weight\n",
        "            finalvalue += item.value\n",
        "        else:\n",
        "            finalvalue += item.value * W / item.weight\n",
        "            break\n",
        "    return finalvalue\n",
        " \n",
        "# Weight of Knapsack\n",
        "W = 50\n",
        "arr = [Item(60, 10), Item(100, 20), Item(120, 30)]    # value,weight\n",
        " \n",
        "max_val = fractionalKnapsack(W, arr)\n",
        "print ('Maximum value that we can obtain = ',(max_val))\n"
      ],
      "metadata": {
        "id": "oviIGxUkFldi",
        "colab": {
          "base_uri": "https://localhost:8080/"
        },
        "outputId": "2f74f1e3-10bc-4b24-8355-6824a0c6f509"
      },
      "execution_count": null,
      "outputs": [
        {
          "output_type": "stream",
          "name": "stdout",
          "text": [
            "Maximum value that we can obtain =  240.0\n"
          ]
        }
      ]
    },
    {
      "cell_type": "markdown",
      "source": [
        "## LP-1 Assignment-4\n",
        "\n",
        "0/1 knapsack using dynamic programming\n",
        "\n",
        "\n"
      ],
      "metadata": {
        "id": "xgbP7lREGrNh"
      }
    },
    {
      "cell_type": "code",
      "source": [
        "#knapsack using dynamic programming\n",
        "def knapSack(W, wt, val, n):\n",
        "    K = [[0 for x in range(W + 1)] for x in range(n + 1)]\n",
        " \n",
        "    # Build table K[][] in bottom up manner\n",
        "    for i in range(n + 1):\n",
        "        for w in range(W + 1):\n",
        "            if i == 0 or w == 0:\n",
        "                K[i][w] = 0\n",
        "            elif wt[i-1] <= w:\n",
        "                K[i][w] = max(val[i-1]  +  K[i-1][w-wt[i-1]], K[i-1][w])\n",
        "            else:\n",
        "                K[i][w] = K[i-1][w]\n",
        " \n",
        "    return K[n][W]\n",
        " \n",
        " \n",
        "# Driver code\n",
        "val = [60, 100, 120]\n",
        "wt = [10, 20, 30]\n",
        "W = 50\n",
        "n = len(val)\n",
        "print(knapSack(W, wt, val, n))"
      ],
      "metadata": {
        "id": "JQJzccacGypZ",
        "colab": {
          "base_uri": "https://localhost:8080/"
        },
        "outputId": "322915fe-8af7-4450-dd68-09ddf410c526"
      },
      "execution_count": null,
      "outputs": [
        {
          "output_type": "stream",
          "name": "stdout",
          "text": [
            "Maximum value is : 220\n"
          ]
        }
      ]
    },
    {
      "cell_type": "markdown",
      "source": [
        "## LP-1 Assignment-5\n",
        "\n",
        "n-queens on chessboard so that no two queens attack each other using Backtracking\n",
        "\n",
        "\n"
      ],
      "metadata": {
        "id": "spxe1hBXG4Wr"
      }
    },
    {
      "cell_type": "code",
      "source": [
        "\n",
        "# n decides size of board\n",
        "n = 4\n",
        "a = [[0 for x in range(n)] for y in range(n)]\n",
        "b = {}\n",
        "\n",
        "def isColumnSafe(r,c):\n",
        "    while(r>=0):\n",
        "        if (a[r][c]==1):\n",
        "            return 0\n",
        "        r=r-1\n",
        "    return 1\n",
        "\n",
        "def isLeftDiagonalSafe(r,c):\n",
        "    while(r>=0 and c>=0):\n",
        "        if(a[r][c]==1):\n",
        "            return 0\n",
        "        r=r-1\n",
        "        c=c-1\n",
        "    return 1\n",
        "\n",
        "def isRightDiagonalSafe(r,c):\n",
        "    while(r>=0 and c<n):\n",
        "        if(a[r][c]==1):\n",
        "            return 0\n",
        "        r=r-1\n",
        "        c=c+1\n",
        "    return 1\n",
        "\n",
        "def isSafe(row,col):\n",
        "    if(isColumnSafe(row,col)== 0):\n",
        "        return 0\n",
        "    if(isLeftDiagonalSafe(row,col)==0):\n",
        "        return 0\n",
        "    if(isRightDiagonalSafe(row,col)==0):\n",
        "        return 0\n",
        "    return 1\n",
        "def checkBoard(r,c):\n",
        "    if(r>=n):\n",
        "        return\n",
        "    p=0\n",
        "    while(c<n):\n",
        "        p = isSafe(r,c)\n",
        "        if(p==1):             # 0- not safe   1- Safe\n",
        "            a[r][c] = 1\n",
        "            b.update({r:c})\n",
        "            break\n",
        "        c=c+1\n",
        "    if(p==1):\n",
        "        checkBoard(r+1,0)   # Calling recursion for next row\n",
        "    else:\n",
        "        a[r-1][b.get(r-1)]=0\n",
        "        checkBoard(r-1,int(b.get(r-1))+1)   # Here actual backtracking happens for previous row\n",
        "\n",
        "checkBoard(0,0)\n",
        "print(\"The final board is: \")\n",
        "for i in range(0,len(a)):\n",
        "  print(a[i])\n",
        "    \n"
      ],
      "metadata": {
        "id": "z-zgPdsgG7vA",
        "colab": {
          "base_uri": "https://localhost:8080/"
        },
        "outputId": "1698c5ff-b8ad-4881-8338-0a4d2374b134"
      },
      "execution_count": null,
      "outputs": [
        {
          "output_type": "stream",
          "name": "stdout",
          "text": [
            "The final board is: \n",
            "[0, 1, 0, 0]\n",
            "[0, 0, 0, 1]\n",
            "[1, 0, 0, 0]\n",
            "[0, 0, 1, 0]\n"
          ]
        }
      ]
    },
    {
      "cell_type": "markdown",
      "source": [
        "#  BT Assignment\n"
      ],
      "metadata": {
        "id": "a0rPvq9Cl5js"
      }
    },
    {
      "cell_type": "markdown",
      "source": [
        "## Assignment -3"
      ],
      "metadata": {
        "id": "xL6t1z90mkbM"
      }
    },
    {
      "cell_type": "code",
      "source": [
        "//Keyur Kolambe\n",
        "//BECOB219\n",
        "//SPDX-License-Identifier: GPL-3.0\n",
        "\n",
        "pragma solidity >=0.7.0 <0.9.0;\n",
        "\n",
        "contract Bank{\n",
        "    address public owner;\n",
        "    mapping(address=>uint256) private userbalance;\n",
        "\n",
        "    constructor() public {\n",
        "        owner=msg.sender;\n",
        "    }\n",
        "    modifier onlyOwner(){\n",
        "        require (msg.sender==owner,'You are not the owner of this contract');\n",
        "        _;\n",
        "    }\n",
        "\n",
        "    function deposit() public payable returns(bool){\n",
        "        require(msg.value>10 wei, 'Please deposit at least 10 wei');\n",
        "        return true;\n",
        "    }\n",
        "\n",
        "    function withdraw(uint256 _amount) public payable returns(bool){\n",
        "        require(_amount <= userbalance[msg.sender], 'You dont have sufficient funds');\n",
        "        userbalance[msg.sender]-= _amount;\n",
        "        payable(msg.sender).transfer(_amount);\n",
        "        return true;\n",
        "    }\n",
        "\n",
        "    function getbalance() public view returns(uint256){\n",
        "        return userbalance[msg.sender];\n",
        "    }\n",
        "\n",
        "    function getBankBalance() public view onlyOwner returns(uint256){\n",
        "        return address(this).balance;\n",
        "    }\n",
        "    \n",
        "    function withdrawBankBalance(uint256 _amount) public payable onlyOwner returns(bool){\n",
        "        payable(owner).transfer(_amount);\n",
        "        return true;\n",
        "    }\n",
        "\n",
        "}"
      ],
      "metadata": {
        "id": "yRXEmcv_mPxP"
      },
      "execution_count": null,
      "outputs": []
    },
    {
      "cell_type": "markdown",
      "source": [
        "## Assignment 4"
      ],
      "metadata": {
        "id": "2nTj7G7gmg25"
      }
    },
    {
      "cell_type": "code",
      "source": [
        "//Keyur Kolambe\n",
        "//BECOB219\n",
        "//SPDX-License-Identifier: GPL-3.0\n",
        "pragma solidity >=0.7.0 <0.9.0;\n",
        "\n",
        "contract StudentData {\n",
        "\n",
        "    struct Student {\n",
        "        int rollNo;\n",
        "        string fName;\n",
        "        string lName;\n",
        "        int marks;\n",
        "    }\n",
        "\n",
        "    address owner;\n",
        "    int public stdCount = 0;\n",
        "    mapping(int => Student) public stdRecords;\n",
        "\n",
        "    modifier onlyOwner {\n",
        "        require(owner == msg.sender);\n",
        "        _;\n",
        "    }\n",
        "\n",
        "    constructor() {\n",
        "        owner=msg.sender;\n",
        "    }\n",
        "\n",
        "\n",
        "    function addNewRecords(int _rollNo, string memory _fName, string memory _lName,int _marks) public onlyOwner{\n",
        "        stdCount=stdCount+1;\n",
        "        stdRecords[stdCount]= Student(_rollNo, _fName ,_lName,_marks);\n",
        "    }\n",
        "\n",
        "    function bonusMarks(int _bonus) public onlyOwner {\n",
        "        stdRecords[stdCount].marks = stdRecords[stdCount].marks + _bonus;\n",
        "    }\n",
        "\n",
        "    fallback() external payable{\n",
        "        //Executed when none of the functions match the \n",
        "        //function identifier or no data was provided with the function call.\n",
        "    }\n",
        "\n",
        "\n",
        "}"
      ],
      "metadata": {
        "id": "sSlHAlxjmfm5"
      },
      "execution_count": null,
      "outputs": []
    },
    {
      "cell_type": "code",
      "source": [],
      "metadata": {
        "id": "3rybFSozjU_o"
      },
      "execution_count": null,
      "outputs": []
    }
  ]
}